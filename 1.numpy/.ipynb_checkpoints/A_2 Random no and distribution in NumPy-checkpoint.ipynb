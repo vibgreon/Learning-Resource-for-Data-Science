{
 "cells": [
  {
   "cell_type": "code",
   "execution_count": 1,
   "id": "ce600668",
   "metadata": {},
   "outputs": [],
   "source": [
    "import numpy as np\n",
    "import matplotlib.pyplot as plt\n",
    "%matplotlib inline"
   ]
  },
  {
   "cell_type": "markdown",
   "id": "909abd11",
   "metadata": {},
   "source": [
    "# Seeding"
   ]
  },
  {
   "cell_type": "code",
   "execution_count": 2,
   "id": "09d8499e",
   "metadata": {},
   "outputs": [],
   "source": [
    "# we create random number, in order to generate similar randome number,\n",
    "# we use Seeding"
   ]
  },
  {
   "cell_type": "code",
   "execution_count": 3,
   "id": "a6d04c32",
   "metadata": {},
   "outputs": [],
   "source": [
    "np.random.seed(123)"
   ]
  },
  {
   "cell_type": "code",
   "execution_count": 4,
   "id": "77b97678",
   "metadata": {},
   "outputs": [
    {
     "data": {
      "text/plain": [
       "array([0.69646919, 0.28613933, 0.22685145, 0.55131477, 0.71946897])"
      ]
     },
     "execution_count": 4,
     "metadata": {},
     "output_type": "execute_result"
    }
   ],
   "source": [
    "np.random.rand(5)"
   ]
  },
  {
   "cell_type": "code",
   "execution_count": 5,
   "id": "315fc875",
   "metadata": {},
   "outputs": [
    {
     "data": {
      "text/plain": [
       "array([[0.42310646, 0.9807642 , 0.68482974],\n",
       "       [0.4809319 , 0.39211752, 0.34317802],\n",
       "       [0.72904971, 0.43857224, 0.0596779 ],\n",
       "       [0.39804426, 0.73799541, 0.18249173],\n",
       "       [0.17545176, 0.53155137, 0.53182759]])"
      ]
     },
     "execution_count": 5,
     "metadata": {},
     "output_type": "execute_result"
    }
   ],
   "source": [
    "np.random.rand(5,3)"
   ]
  },
  {
   "cell_type": "code",
   "execution_count": 6,
   "id": "5fa298b7",
   "metadata": {},
   "outputs": [],
   "source": [
    "a = 6; b = 12"
   ]
  },
  {
   "cell_type": "code",
   "execution_count": 8,
   "id": "aa75c1f7",
   "metadata": {},
   "outputs": [
    {
     "data": {
      "text/plain": [
       "array([7.93775348, 8.17073193, 7.36957939, 7.76228428, 9.78585674])"
      ]
     },
     "execution_count": 8,
     "metadata": {},
     "output_type": "execute_result"
    }
   ],
   "source": [
    "# to create random number between two numbers\n",
    "\n",
    "(b-a) * np.random.rand(5) + a"
   ]
  },
  {
   "cell_type": "markdown",
   "id": "0f12e724",
   "metadata": {},
   "source": [
    "## Normal Distribution"
   ]
  },
  {
   "cell_type": "code",
   "execution_count": 10,
   "id": "b7c592d9",
   "metadata": {},
   "outputs": [
    {
     "data": {
      "text/plain": [
       "array([-0.69987723,  0.92746243, -0.17363568,  0.00284592,  0.68822271])"
      ]
     },
     "execution_count": 10,
     "metadata": {},
     "output_type": "execute_result"
    }
   ],
   "source": [
    "# standard normal distribution, mean = 0 and variance = 1\n",
    "\n",
    "np.random.randn(5)"
   ]
  },
  {
   "cell_type": "code",
   "execution_count": 11,
   "id": "e282c4af",
   "metadata": {},
   "outputs": [
    {
     "data": {
      "text/plain": [
       "array([[-0.87953634,  0.28362732, -0.80536652, -1.72766949],\n",
       "       [-0.39089979,  0.57380586,  0.33858905, -0.01183049],\n",
       "       [ 2.39236527,  0.41291216,  0.97873601,  2.23814334],\n",
       "       [-1.29408532, -1.03878821,  1.74371223, -0.79806274],\n",
       "       [ 0.02968323,  1.06931597,  0.89070639,  1.75488618]])"
      ]
     },
     "execution_count": 11,
     "metadata": {},
     "output_type": "execute_result"
    }
   ],
   "source": [
    "np.random.randn(5,4)"
   ]
  },
  {
   "cell_type": "code",
   "execution_count": 12,
   "id": "d8e6b006",
   "metadata": {},
   "outputs": [],
   "source": [
    "# if you want to change standard deviation, mean, variance\n",
    "# mu - mean\n",
    "# sigma - variance\n",
    "\n",
    "mu = 5; sigma = 2"
   ]
  },
  {
   "cell_type": "code",
   "execution_count": 15,
   "id": "06f47df9",
   "metadata": {},
   "outputs": [
    {
     "data": {
      "text/plain": [
       "array([2.60339771, 5.39904815, 5.93687824, 3.33769003, 7.3244081 ])"
      ]
     },
     "execution_count": 15,
     "metadata": {},
     "output_type": "execute_result"
    }
   ],
   "source": [
    "mu + sigma * np.random.randn(5)"
   ]
  },
  {
   "cell_type": "code",
   "execution_count": 17,
   "id": "534135e4",
   "metadata": {},
   "outputs": [],
   "source": [
    "X1 = np.random.randn(10000)\n",
    "X2 = mu + sigma * np.random.randn(10000)"
   ]
  },
  {
   "cell_type": "code",
   "execution_count": 18,
   "id": "83d2fd7d",
   "metadata": {},
   "outputs": [
    {
     "data": {
      "image/png": "[encoded data removed]",
      "text/plain": [
       "<Figure size 720x432 with 1 Axes>"
      ]
     },
     "metadata": {
      "needs_background": "light"
     },
     "output_type": "display_data"
    }
   ],
   "source": [
    "# blue variance = 1\n",
    "\n",
    "plt.figure(figsize=(10,6))\n",
    "plt.hist(X1, bins=20, alpha=0.4)\n",
    "plt.hist(X2, bins=20, alpha=0.4)\n",
    "plt.show()"
   ]
  },
  {
   "cell_type": "markdown",
   "id": "d7d32aa0",
   "metadata": {},
   "source": [
    "## Random Integers"
   ]
  },
  {
   "cell_type": "code",
   "execution_count": 21,
   "id": "75db1d98",
   "metadata": {},
   "outputs": [
    {
     "data": {
      "text/plain": [
       "array([1, 0, 1, 0, 1, 0, 0, 1, 0, 0])"
      ]
     },
     "execution_count": 21,
     "metadata": {},
     "output_type": "execute_result"
    }
   ],
   "source": [
    "# it will create random values, where largest value is 2 (2 not included)\n",
    "\n",
    "np.random.randint(2, size=10)"
   ]
  },
  {
   "cell_type": "code",
   "execution_count": 24,
   "id": "b9a04dd5",
   "metadata": {},
   "outputs": [
    {
     "data": {
      "text/plain": [
       "array([ 9,  7, 19, 13,  7, 13, 18,  7, 12,  6, 12, 12, 15, 12,  8,  7,  6,\n",
       "       18, 18, 17, 15, 18,  7, 17, 15, 14,  7, 17, 11,  7, 14, 18, 10, 14,\n",
       "        9, 16, 14,  9, 15, 14,  8,  8, 16, 13, 15,  5, 17,  8, 14, 19, 13,\n",
       "       11, 16,  6, 13, 10,  5,  6, 12,  6,  9,  6, 10, 15,  8, 16, 13,  6,\n",
       "       15,  8,  9,  7, 10, 15,  5, 14, 12, 19,  6,  5, 14,  9, 17, 18,  9,\n",
       "       17, 11, 16,  7, 10, 19, 13, 13,  7, 13, 11,  7, 12, 10, 13])"
      ]
     },
     "execution_count": 24,
     "metadata": {},
     "output_type": "execute_result"
    }
   ],
   "source": [
    "# 5 is included, 20 is not included\n",
    "\n",
    "np.random.randint(5, 20, size=100)"
   ]
  },
  {
   "cell_type": "code",
   "execution_count": 25,
   "id": "d5e43c91",
   "metadata": {},
   "outputs": [
    {
     "data": {
      "text/plain": [
       "array([[18, 15,  6, 13,  8,  6, 17],\n",
       "       [15, 18, 11, 10,  6,  6, 18],\n",
       "       [ 8,  8, 17,  5, 11, 12,  9],\n",
       "       [15,  6, 14, 18,  8, 16, 12]])"
      ]
     },
     "execution_count": 25,
     "metadata": {},
     "output_type": "execute_result"
    }
   ],
   "source": [
    "np.random.randint(5, 20, size=(4,7))"
   ]
  },
  {
   "cell_type": "code",
   "execution_count": null,
   "id": "e0d64d7b",
   "metadata": {},
   "outputs": [],
   "source": []
  }
 ],
 "metadata": {
  "kernelspec": {
   "display_name": "Python 3 (ipykernel)",
   "language": "python",
   "name": "python3"
  },
  "language_info": {
   "codemirror_mode": {
    "name": "ipython",
    "version": 3
   },
   "file_extension": ".py",
   "mimetype": "text/x-python",
   "name": "python",
   "nbconvert_exporter": "python",
   "pygments_lexer": "ipython3",
   "version": "3.10.5"
  }
 },
 "nbformat": 4,
 "nbformat_minor": 5
}
