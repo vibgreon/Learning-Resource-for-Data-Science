{
 "cells": [
  {
   "cell_type": "code",
   "execution_count": 23,
   "id": "fd831d7b",
   "metadata": {},
   "outputs": [],
   "source": [
    "import numpy as np"
   ]
  },
  {
   "cell_type": "markdown",
   "id": "fe0e64e5",
   "metadata": {},
   "source": [
    "## Python list and NumPy array"
   ]
  },
  {
   "cell_type": "code",
   "execution_count": 2,
   "id": "62f3362b",
   "metadata": {},
   "outputs": [],
   "source": [
    "# creating list\n",
    "\n",
    "x = [100,150,200,250]"
   ]
  },
  {
   "cell_type": "code",
   "execution_count": 3,
   "id": "24213252",
   "metadata": {},
   "outputs": [
    {
     "data": {
      "text/plain": [
       "[100, 150, 200, 250]"
      ]
     },
     "execution_count": 3,
     "metadata": {},
     "output_type": "execute_result"
    }
   ],
   "source": [
    "x"
   ]
  },
  {
   "cell_type": "code",
   "execution_count": 6,
   "id": "dc3c5a94",
   "metadata": {},
   "outputs": [],
   "source": [
    "# converting list to array\n",
    "\n",
    "y = np.array(x)"
   ]
  },
  {
   "cell_type": "code",
   "execution_count": 7,
   "id": "22f6f409",
   "metadata": {},
   "outputs": [
    {
     "data": {
      "text/plain": [
       "array([100, 150, 200, 250])"
      ]
     },
     "execution_count": 7,
     "metadata": {},
     "output_type": "execute_result"
    }
   ],
   "source": [
    "y"
   ]
  },
  {
   "cell_type": "code",
   "execution_count": 11,
   "id": "2c0ef460",
   "metadata": {},
   "outputs": [
    {
     "name": "stdout",
     "output_type": "stream",
     "text": [
      "type of x: <class 'list'>\n",
      "type of x: <class 'numpy.ndarray'>\n"
     ]
    }
   ],
   "source": [
    "# types\n",
    "\n",
    "print(\"type of x:\",type(x))\n",
    "print(\"type of x:\",type(y))"
   ]
  },
  {
   "cell_type": "code",
   "execution_count": 17,
   "id": "2f3ed2b2",
   "metadata": {},
   "outputs": [
    {
     "name": "stdout",
     "output_type": "stream",
     "text": [
      "[100, 150, 200, 250, 100, 150, 200, 250]\n",
      "[100, 150, 200, 250, 100, 150, 200, 250]\n",
      "[100, 150, 200, 250, 100, 150, 200, 250, 100, 150, 200, 250, 100, 150, 200, 250]\n"
     ]
    }
   ],
   "source": [
    "# for python list, it will add up\n",
    "\n",
    "print(x+x)\n",
    "print(x*2)\n",
    "print(x*4)"
   ]
  },
  {
   "cell_type": "code",
   "execution_count": 21,
   "id": "4996aab2",
   "metadata": {},
   "outputs": [
    {
     "name": "stdout",
     "output_type": "stream",
     "text": [
      "[200 300 400 500]\n",
      "[300 450 600 750]\n",
      "[10000 22500 40000 62500]\n"
     ]
    }
   ],
   "source": [
    "# for numpy array, we can apply maths operation\n",
    "\n",
    "print(y+y)\n",
    "print(y*3)\n",
    "print(y**2)"
   ]
  },
  {
   "cell_type": "markdown",
   "id": "4c6de539",
   "metadata": {},
   "source": [
    "## Subsetting and Slicing"
   ]
  },
  {
   "cell_type": "code",
   "execution_count": 24,
   "id": "6ee35ccd",
   "metadata": {},
   "outputs": [
    {
     "data": {
      "text/plain": [
       "array([100, 150, 200, 250])"
      ]
     },
     "execution_count": 24,
     "metadata": {},
     "output_type": "execute_result"
    }
   ],
   "source": [
    "y"
   ]
  },
  {
   "cell_type": "code",
   "execution_count": 26,
   "id": "a6ea3d5a",
   "metadata": {},
   "outputs": [
    {
     "data": {
      "text/plain": [
       "100"
      ]
     },
     "execution_count": 26,
     "metadata": {},
     "output_type": "execute_result"
    }
   ],
   "source": [
    "# NumPy index starts with 0\n",
    "\n",
    "y[0]"
   ]
  },
  {
   "cell_type": "code",
   "execution_count": 29,
   "id": "78f642d1",
   "metadata": {},
   "outputs": [
    {
     "name": "stdout",
     "output_type": "stream",
     "text": [
      "[100 150]\n",
      "[100 150]\n"
     ]
    }
   ],
   "source": [
    "# it gives value before the index[2]\n",
    "\n",
    "print(y[0:2])\n",
    "print(y[:2])"
   ]
  },
  {
   "cell_type": "code",
   "execution_count": 31,
   "id": "202ef6c0",
   "metadata": {},
   "outputs": [
    {
     "data": {
      "text/plain": [
       "250"
      ]
     },
     "execution_count": 31,
     "metadata": {},
     "output_type": "execute_result"
    }
   ],
   "source": [
    "# starts from end\n",
    "\n",
    "y[-1]"
   ]
  },
  {
   "cell_type": "code",
   "execution_count": 33,
   "id": "152b4166",
   "metadata": {},
   "outputs": [
    {
     "data": {
      "text/plain": [
       "array([150, 200, 250])"
      ]
     },
     "execution_count": 33,
     "metadata": {},
     "output_type": "execute_result"
    }
   ],
   "source": [
    "# till the end\n",
    "\n",
    "y[1:]"
   ]
  },
  {
   "cell_type": "code",
   "execution_count": 36,
   "id": "ffb78a35",
   "metadata": {},
   "outputs": [
    {
     "data": {
      "text/plain": [
       "array([150, 200])"
      ]
     },
     "execution_count": 36,
     "metadata": {},
     "output_type": "execute_result"
    }
   ],
   "source": [
    "# remember, last index is not included\n",
    "\n",
    "y[-3:-1]"
   ]
  },
  {
   "cell_type": "markdown",
   "id": "ec4e58ee",
   "metadata": {},
   "source": [
    "## Logical Indexing"
   ]
  },
  {
   "cell_type": "code",
   "execution_count": 39,
   "id": "e00e09ef",
   "metadata": {},
   "outputs": [
    {
     "data": {
      "text/plain": [
       "array([100, 150, 200, 250])"
      ]
     },
     "execution_count": 39,
     "metadata": {},
     "output_type": "execute_result"
    }
   ],
   "source": [
    "y"
   ]
  },
  {
   "cell_type": "code",
   "execution_count": 38,
   "id": "d39b4e0e",
   "metadata": {},
   "outputs": [
    {
     "data": {
      "text/plain": [
       "array([False, False, False,  True])"
      ]
     },
     "execution_count": 38,
     "metadata": {},
     "output_type": "execute_result"
    }
   ],
   "source": [
    "y > 200"
   ]
  },
  {
   "cell_type": "code",
   "execution_count": 41,
   "id": "4384152b",
   "metadata": {},
   "outputs": [
    {
     "data": {
      "text/plain": [
       "array([False, False, False,  True])"
      ]
     },
     "execution_count": 41,
     "metadata": {},
     "output_type": "execute_result"
    }
   ],
   "source": [
    "y == 250"
   ]
  },
  {
   "cell_type": "code",
   "execution_count": 43,
   "id": "53915752",
   "metadata": {},
   "outputs": [
    {
     "data": {
      "text/plain": [
       "array([ True,  True,  True, False])"
      ]
     },
     "execution_count": 43,
     "metadata": {},
     "output_type": "execute_result"
    }
   ],
   "source": [
    "y != 250"
   ]
  },
  {
   "cell_type": "code",
   "execution_count": 44,
   "id": "fc59d6d8",
   "metadata": {},
   "outputs": [
    {
     "data": {
      "text/plain": [
       "array([False, False,  True,  True])"
      ]
     },
     "execution_count": 44,
     "metadata": {},
     "output_type": "execute_result"
    }
   ],
   "source": [
    "y >= 200"
   ]
  },
  {
   "cell_type": "code",
   "execution_count": 45,
   "id": "0e248916",
   "metadata": {},
   "outputs": [
    {
     "data": {
      "text/plain": [
       "array([ True,  True,  True, False])"
      ]
     },
     "execution_count": 45,
     "metadata": {},
     "output_type": "execute_result"
    }
   ],
   "source": [
    "y <= 200"
   ]
  },
  {
   "cell_type": "code",
   "execution_count": 47,
   "id": "ca862edc",
   "metadata": {},
   "outputs": [
    {
     "data": {
      "text/plain": [
       "array([200, 250])"
      ]
     },
     "execution_count": 47,
     "metadata": {},
     "output_type": "execute_result"
    }
   ],
   "source": [
    "# give me those values of y, which is greater than or equal to 200\n",
    "\n",
    "y[y>=200]"
   ]
  },
  {
   "cell_type": "code",
   "execution_count": null,
   "id": "c73fc459",
   "metadata": {},
   "outputs": [],
   "source": []
  }
 ],
 "metadata": {
  "kernelspec": {
   "display_name": "Python 3 (ipykernel)",
   "language": "python",
   "name": "python3"
  },
  "language_info": {
   "codemirror_mode": {
    "name": "ipython",
    "version": 3
   },
   "file_extension": ".py",
   "mimetype": "text/x-python",
   "name": "python",
   "nbconvert_exporter": "python",
   "pygments_lexer": "ipython3",
   "version": "3.10.5"
  }
 },
 "nbformat": 4,
 "nbformat_minor": 5
}
